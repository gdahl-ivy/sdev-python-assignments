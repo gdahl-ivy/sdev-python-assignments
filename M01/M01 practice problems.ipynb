{
 "cells": [
  {
   "cell_type": "code",
   "execution_count": 1,
   "id": "01a61df7",
   "metadata": {
    "scrolled": false
   },
   "outputs": [
    {
     "data": {
      "text/plain": [
       "3600"
      ]
     },
     "execution_count": 1,
     "metadata": {},
     "output_type": "execute_result"
    }
   ],
   "source": [
    "#3.1\n",
    "60 * 60"
   ]
  },
  {
   "cell_type": "markdown",
   "id": "476ad66e",
   "metadata": {},
   "source": [
    "There are 3600 seconds in an hour"
   ]
  },
  {
   "cell_type": "code",
   "execution_count": 2,
   "id": "811d6d4b",
   "metadata": {},
   "outputs": [],
   "source": [
    "#3.2\n",
    "seconds_per_hour = 3600"
   ]
  },
  {
   "cell_type": "code",
   "execution_count": 4,
   "id": "5b57311f",
   "metadata": {},
   "outputs": [
    {
     "data": {
      "text/plain": [
       "86400"
      ]
     },
     "execution_count": 4,
     "metadata": {},
     "output_type": "execute_result"
    }
   ],
   "source": [
    "#3.3\n",
    "seconds_per_hour * 24"
   ]
  },
  {
   "cell_type": "markdown",
   "id": "69e6ed17",
   "metadata": {},
   "source": [
    "There are 86400 seconds in a day"
   ]
  },
  {
   "cell_type": "code",
   "execution_count": 5,
   "id": "098c96c8",
   "metadata": {},
   "outputs": [],
   "source": [
    "#3.4\n",
    "seconds_per_day = seconds_per_hour * 24"
   ]
  },
  {
   "cell_type": "code",
   "execution_count": 6,
   "id": "d9586713",
   "metadata": {},
   "outputs": [
    {
     "data": {
      "text/plain": [
       "24.0"
      ]
     },
     "execution_count": 6,
     "metadata": {},
     "output_type": "execute_result"
    }
   ],
   "source": [
    "#3.5\n",
    "seconds_per_day / seconds_per_hour"
   ]
  },
  {
   "cell_type": "markdown",
   "id": "c76471d8",
   "metadata": {},
   "source": [
    "There are 24.0 hours per day"
   ]
  },
  {
   "cell_type": "code",
   "execution_count": 8,
   "id": "dccc5e73",
   "metadata": {},
   "outputs": [
    {
     "data": {
      "text/plain": [
       "24"
      ]
     },
     "execution_count": 8,
     "metadata": {},
     "output_type": "execute_result"
    }
   ],
   "source": [
    "#3.6\n",
    "seconds_per_day // seconds_per_hour"
   ]
  },
  {
   "cell_type": "markdown",
   "id": "8019f769",
   "metadata": {},
   "source": [
    "There are 24 hours per day. This answer matches the answer to #3.5"
   ]
  }
 ],
 "metadata": {
  "kernelspec": {
   "display_name": "Python 3 (ipykernel)",
   "language": "python",
   "name": "python3"
  },
  "language_info": {
   "codemirror_mode": {
    "name": "ipython",
    "version": 3
   },
   "file_extension": ".py",
   "mimetype": "text/x-python",
   "name": "python",
   "nbconvert_exporter": "python",
   "pygments_lexer": "ipython3",
   "version": "3.9.12"
  }
 },
 "nbformat": 4,
 "nbformat_minor": 5
}
