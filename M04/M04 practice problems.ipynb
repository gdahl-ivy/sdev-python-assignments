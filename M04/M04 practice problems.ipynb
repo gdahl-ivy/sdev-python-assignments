{
 "cells": [
  {
   "cell_type": "markdown",
   "id": "8466cb59",
   "metadata": {},
   "source": [
    "# M04 practice problems Ch. 11 #1-2 & Ch. 16 #8\n",
    "\n",
    "### 11.1"
   ]
  },
  {
   "cell_type": "code",
   "execution_count": 2,
   "id": "06583c0e",
   "metadata": {},
   "outputs": [
    {
     "name": "stdout",
     "output_type": "stream",
     "text": [
      "Open 9-5 daily\n"
     ]
    }
   ],
   "source": [
    "import zoo\n",
    "zoo.hours()"
   ]
  },
  {
   "cell_type": "markdown",
   "id": "b06465a3",
   "metadata": {},
   "source": [
    "### 11.2"
   ]
  },
  {
   "cell_type": "code",
   "execution_count": 3,
   "id": "78af320f",
   "metadata": {},
   "outputs": [
    {
     "name": "stdout",
     "output_type": "stream",
     "text": [
      "Open 9-5 daily\n"
     ]
    }
   ],
   "source": [
    "import zoo as menagerie\n",
    "menagerie.hours()"
   ]
  },
  {
   "cell_type": "markdown",
   "id": "f32d10fe",
   "metadata": {},
   "source": [
    "### 16.8"
   ]
  },
  {
   "cell_type": "code",
   "execution_count": 28,
   "id": "90e4baa1",
   "metadata": {},
   "outputs": [
    {
     "name": "stdout",
     "output_type": "stream",
     "text": [
      "[(0, 'title', 'author', 'year'), (1, 'The Weirdstone of Brisingamen', 'Alan Garner', 1960), (2, 'Perdido Street Station', 'China MiÃ©ville', 2000), (3, 'Thud!', 'Terry Pratchett', 2005), (4, 'The Spellman Files', 'Lisa Lutz', 2007), (5, 'Small Gods', 'Terry Pratchett', 1992)]\n"
     ]
    }
   ],
   "source": [
    "import sqlite3, csv\n",
    "\n",
    "# make a new sqlite3 database\n",
    "conn = sqlite3.connect('books.db')\n",
    "curs = conn.cursor()\n",
    "curs.execute('''CREATE TABLE books (\n",
    "id INTEGER PRIMARY KEY, \n",
    "title TEXT,\n",
    "author TEXT,\n",
    "year INTEGER\n",
    ");''')\n",
    "\n",
    "# add the contents of the csv file to the database\n",
    "with open('books2.csv', 'rt') as file_reader:\n",
    "    csv_reader = csv.reader(file_reader)\n",
    "    id = 0\n",
    "    ins = 'INSERT INTO books (id, title, author, year) VALUES(?, ?, ?, ?)'\n",
    "    for row in csv_reader:\n",
    "        curs.execute(ins, (id, *row))\n",
    "        id += 1\n",
    "curs.execute('COMMIT')\n",
    "\n",
    "# check that it worked\n",
    "curs.execute('SELECT * FROM books')\n",
    "print(curs.fetchall())\n",
    "\n",
    "# wrap up\n",
    "curs.close()\n",
    "conn.close()"
   ]
  },
  {
   "cell_type": "code",
   "execution_count": 29,
   "id": "9d022ae8",
   "metadata": {},
   "outputs": [
    {
     "name": "stdout",
     "output_type": "stream",
     "text": [
      "2022-06-28 05:10:05,446 INFO sqlalchemy.engine.Engine SELECT * FROM books\n",
      "2022-06-28 05:10:05,447 INFO sqlalchemy.engine.Engine [raw sql] ()\n",
      "(0, 'title', 'author', 'year')\n",
      "(1, 'The Weirdstone of Brisingamen', 'Alan Garner', 1960)\n",
      "(2, 'Perdido Street Station', 'China MiÃ©ville', 2000)\n",
      "(3, 'Thud!', 'Terry Pratchett', 2005)\n",
      "(4, 'The Spellman Files', 'Lisa Lutz', 2007)\n",
      "(5, 'Small Gods', 'Terry Pratchett', 1992)\n"
     ]
    }
   ],
   "source": [
    "import sqlalchemy as sa\n",
    "\n",
    "# retrieve the titles from the books db in alphabetical order\n",
    "engine = sa.create_engine('sqlite:///books.db', echo=True)\n",
    "result = engine.execute('SELECT * FROM books')\n",
    "# SELECT title FROM books ORDER BY title\n",
    "for row in result:\n",
    "    print(row)"
   ]
  }
 ],
 "metadata": {
  "kernelspec": {
   "display_name": "Python 3 (ipykernel)",
   "language": "python",
   "name": "python3"
  },
  "language_info": {
   "codemirror_mode": {
    "name": "ipython",
    "version": 3
   },
   "file_extension": ".py",
   "mimetype": "text/x-python",
   "name": "python",
   "nbconvert_exporter": "python",
   "pygments_lexer": "ipython3",
   "version": "3.9.12"
  }
 },
 "nbformat": 4,
 "nbformat_minor": 5
}
