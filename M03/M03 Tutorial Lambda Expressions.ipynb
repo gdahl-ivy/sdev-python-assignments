{
 "cells": [
  {
   "cell_type": "code",
   "execution_count": 1,
   "id": "74f6ef07",
   "metadata": {},
   "outputs": [
    {
     "name": "stdout",
     "output_type": "stream",
     "text": [
      "[25, 16, 9]\n"
     ]
    }
   ],
   "source": [
    "# square\n",
    "my_list = [5,4,3]\n",
    "print(list(map(lambda x: x*x, my_list)))"
   ]
  },
  {
   "cell_type": "code",
   "execution_count": 2,
   "id": "a0ca4ca1",
   "metadata": {},
   "outputs": [
    {
     "name": "stdout",
     "output_type": "stream",
     "text": [
      "[(10, -1), (0, 2), (4, 3), (9, 9)]\n"
     ]
    }
   ],
   "source": [
    "# sort by second value\n",
    "a = [(0,2), (4,3), (9,9), (10,-1)]\n",
    "print(sorted(a, key=lambda t: t[1]))"
   ]
  }
 ],
 "metadata": {
  "kernelspec": {
   "display_name": "Python 3 (ipykernel)",
   "language": "python",
   "name": "python3"
  },
  "language_info": {
   "codemirror_mode": {
    "name": "ipython",
    "version": 3
   },
   "file_extension": ".py",
   "mimetype": "text/x-python",
   "name": "python",
   "nbconvert_exporter": "python",
   "pygments_lexer": "ipython3",
   "version": "3.9.12"
  }
 },
 "nbformat": 4,
 "nbformat_minor": 5
}
