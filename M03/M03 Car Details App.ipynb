{
 "cells": [
  {
   "cell_type": "markdown",
   "id": "1725201e",
   "metadata": {},
   "source": [
    "# M03 Case Study - Lists, Functions, and Classes\n",
    "\n",
    "### Application\n",
    "\n",
    "Author: Gunnar Dahl\n",
    "\n",
    "Filename: M03 Car Details App.ipynb\n",
    "\n",
    "This app prompts a user for the details of a car and then prints them out."
   ]
  },
  {
   "cell_type": "code",
   "execution_count": 15,
   "id": "7fb042d9",
   "metadata": {},
   "outputs": [],
   "source": [
    "class Vehicle:\n",
    "    def __init__(self, type):\n",
    "        self.type = type\n",
    "\n",
    "class Automobile(Vehicle):\n",
    "    def __init__(self, year, make, model, num_doors, roof_type):\n",
    "        super().__init__(\"car\")\n",
    "        self.year = year\n",
    "        self.make = make\n",
    "        self.model = model\n",
    "        self.num_doors = num_doors\n",
    "        self.roof_type = roof_type\n",
    "        \n",
    "    def __str__(self):\n",
    "        return f\"Year: {self.year}\\n\" \\\n",
    "        f\"Make: {self.make}\\n\" \\\n",
    "        f\"Model: {self.model}\\n\" \\\n",
    "        f\"Number of doors: {self.num_doors}\\n\" \\\n",
    "        f\"Roof type: {self.roof_type}\"\n",
    "\n",
    "def prompt_car_details():\n",
    "    print(\"Enter your car details\")\n",
    "    year = input(\"Year: \")\n",
    "    make = input(\"Make: \")\n",
    "    model = input(\"Model: \")\n",
    "    num_doors = input(\"Number of doors (2 or 4): \")\n",
    "    roof_type = input(\"Roof type (solid or sunroof): \")\n",
    "    \n",
    "    print(\"\\n\" + str(Automobile(year, make, model, num_doors, roof_type)))\n",
    "    "
   ]
  },
  {
   "cell_type": "markdown",
   "id": "a93c2318",
   "metadata": {},
   "source": [
    "### Testing"
   ]
  },
  {
   "cell_type": "code",
   "execution_count": 16,
   "id": "9543265c",
   "metadata": {},
   "outputs": [
    {
     "name": "stdout",
     "output_type": "stream",
     "text": [
      "Enter your car details\n",
      "Year: 2022\n",
      "Make: Toyota\n",
      "Model: Corolla\n",
      "Number of doors (2 or 4): 4\n",
      "Roof type (solid or sunroof): sunroof\n",
      "\n",
      "Year: 2022\n",
      "Make: Toyota\n",
      "Model: Corolla\n",
      "Number of doors: 4\n",
      "Roof type: sunroof\n"
     ]
    }
   ],
   "source": [
    "prompt_car_details()"
   ]
  }
 ],
 "metadata": {
  "kernelspec": {
   "display_name": "Python 3 (ipykernel)",
   "language": "python",
   "name": "python3"
  },
  "language_info": {
   "codemirror_mode": {
    "name": "ipython",
    "version": 3
   },
   "file_extension": ".py",
   "mimetype": "text/x-python",
   "name": "python",
   "nbconvert_exporter": "python",
   "pygments_lexer": "ipython3",
   "version": "3.9.12"
  }
 },
 "nbformat": 4,
 "nbformat_minor": 5
}
