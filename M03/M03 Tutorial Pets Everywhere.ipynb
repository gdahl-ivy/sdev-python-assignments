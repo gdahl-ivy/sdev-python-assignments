{
 "cells": [
  {
   "cell_type": "code",
   "execution_count": 1,
   "id": "db603a7c",
   "metadata": {},
   "outputs": [],
   "source": [
    "#Given the below class:\n",
    "class Cat:\n",
    "    species = 'mammal'\n",
    "    def __init__(self, name, age):\n",
    "        self.name = name\n",
    "        self.age = age"
   ]
  },
  {
   "cell_type": "code",
   "execution_count": 2,
   "id": "c4741591",
   "metadata": {},
   "outputs": [],
   "source": [
    "# 1 Instantiate the Cat object with 3 cats\n",
    "amy = Cat('Amy', 3)\n",
    "bob = Cat('Bob', 5)\n",
    "carl = Cat('Carl', 4)"
   ]
  },
  {
   "cell_type": "code",
   "execution_count": 3,
   "id": "09a02947",
   "metadata": {},
   "outputs": [],
   "source": [
    "# 2 Create a function that finds the oldest cat\n",
    "def get_oldest_cat(cats):\n",
    "    oldest = cats[0]\n",
    "    for cat in cats[1:]:\n",
    "        if cat.age > oldest.age:\n",
    "            oldest = cat\n",
    "    return oldest"
   ]
  },
  {
   "cell_type": "code",
   "execution_count": 4,
   "id": "daeb8abf",
   "metadata": {},
   "outputs": [
    {
     "name": "stdout",
     "output_type": "stream",
     "text": [
      "The oldest cat is 5 years old.\n"
     ]
    }
   ],
   "source": [
    "# 3 Print out: \"The oldest cat is x years old.\". x will be the oldest cat age by using the function in #2\n",
    "oldest = get_oldest_cat([amy,bob,carl])\n",
    "print(f\"The oldest cat is {oldest.age} years old.\")"
   ]
  }
 ],
 "metadata": {
  "kernelspec": {
   "display_name": "Python 3 (ipykernel)",
   "language": "python",
   "name": "python3"
  },
  "language_info": {
   "codemirror_mode": {
    "name": "ipython",
    "version": 3
   },
   "file_extension": ".py",
   "mimetype": "text/x-python",
   "name": "python",
   "nbconvert_exporter": "python",
   "pygments_lexer": "ipython3",
   "version": "3.9.12"
  }
 },
 "nbformat": 4,
 "nbformat_minor": 5
}
