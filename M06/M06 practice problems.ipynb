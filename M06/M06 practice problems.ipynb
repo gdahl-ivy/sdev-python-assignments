{
 "cells": [
  {
   "cell_type": "markdown",
   "id": "5c5af7da",
   "metadata": {},
   "source": [
    "# M06 practice problems Ch. 13 #1-3\n",
    "\n",
    "### 13.1\n",
    "Write the current date as a string to the text file today.txt."
   ]
  },
  {
   "cell_type": "code",
   "execution_count": 1,
   "id": "ec0e938c",
   "metadata": {},
   "outputs": [
    {
     "data": {
      "text/plain": [
       "'2022-07-19'"
      ]
     },
     "execution_count": 1,
     "metadata": {},
     "output_type": "execute_result"
    }
   ],
   "source": [
    "import datetime\n",
    "\n",
    "text = datetime.date.today().isoformat()\n",
    "\n",
    "with open('today.txt', 'wt') as out_file:\n",
    "    out_file.write(text)\n",
    "\n",
    "text"
   ]
  },
  {
   "cell_type": "markdown",
   "id": "35456386",
   "metadata": {},
   "source": [
    "### 13.2\n",
    "Read the text file today.txt into the string today_string."
   ]
  },
  {
   "cell_type": "code",
   "execution_count": 2,
   "id": "36045faf",
   "metadata": {},
   "outputs": [
    {
     "data": {
      "text/plain": [
       "'2022-07-19'"
      ]
     },
     "execution_count": 2,
     "metadata": {},
     "output_type": "execute_result"
    }
   ],
   "source": [
    "with open('today.txt', 'rt') as in_file:\n",
    "    today_string = in_file.read()\n",
    "\n",
    "today_string"
   ]
  },
  {
   "cell_type": "markdown",
   "id": "427e4c75",
   "metadata": {},
   "source": [
    "### 13.3\n",
    "Parse the date from today_string."
   ]
  },
  {
   "cell_type": "code",
   "execution_count": 3,
   "id": "99003f7f",
   "metadata": {},
   "outputs": [
    {
     "name": "stdout",
     "output_type": "stream",
     "text": [
      "2022-07-19\n"
     ]
    }
   ],
   "source": [
    "today = datetime.date.fromisoformat(today_string)\n",
    "\n",
    "print(today)"
   ]
  }
 ],
 "metadata": {
  "kernelspec": {
   "display_name": "Python 3.9.10 64-bit (windows store)",
   "language": "python",
   "name": "python3"
  },
  "language_info": {
   "codemirror_mode": {
    "name": "ipython",
    "version": 3
   },
   "file_extension": ".py",
   "mimetype": "text/x-python",
   "name": "python",
   "nbconvert_exporter": "python",
   "pygments_lexer": "ipython3",
   "version": "3.9.13"
  },
  "vscode": {
   "interpreter": {
    "hash": "1f274ca3fdacdf80e280f677813178deaff2f8ddc5227cfca7af1b84f2480582"
   }
  }
 },
 "nbformat": 4,
 "nbformat_minor": 5
}
