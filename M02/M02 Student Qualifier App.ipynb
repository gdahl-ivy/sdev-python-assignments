{
 "cells": [
  {
   "cell_type": "markdown",
   "id": "1725201e",
   "metadata": {},
   "source": [
    "# M02 Case Study - Student Qualifier Application\n",
    "\n",
    "### Application\n",
    "\n",
    "Author: Gunnar Dahl\n",
    "\n",
    "Filename: M02 Student Qualifier App.ipynb\n",
    "\n",
    "This app prompts the user to enter student details and displays whether each student has made the Dean's List or Honor Roll."
   ]
  },
  {
   "cell_type": "code",
   "execution_count": 3,
   "id": "7fb042d9",
   "metadata": {},
   "outputs": [],
   "source": [
    "def qualify_students():\n",
    "    print(\"Enter student info below ('ZZZ' to stop)\") \n",
    "    \n",
    "    while True:\n",
    "        \n",
    "        #get user input\n",
    "        last_name = input(\"\\n Last name: \")\n",
    "        \n",
    "        if last_name == \"ZZZ\":\n",
    "            break\n",
    "        \n",
    "        first_name = input(\"First name: \")\n",
    "        gpa = float(input(\"       GPA: \"))\n",
    "\n",
    "        #display student qualifications\n",
    "        if gpa >= 3.5:\n",
    "            print(f\"{first_name} has made the Honor Roll and the Dean's List!\")\n",
    "        elif gpa >= 3.25:\n",
    "            print(f\"{first_name} has made the Honor Roll.\")\n",
    "        else:\n",
    "            print(f\"{first_name} has not made the Honor Roll.\")"
   ]
  },
  {
   "cell_type": "markdown",
   "id": "a93c2318",
   "metadata": {},
   "source": [
    "### Testing"
   ]
  },
  {
   "cell_type": "code",
   "execution_count": 4,
   "id": "9543265c",
   "metadata": {},
   "outputs": [
    {
     "name": "stdout",
     "output_type": "stream",
     "text": [
      "Enter student info below ('ZZZ' to stop)\n",
      "\n",
      " Last name: Presley\n",
      "First name: Elvis\n",
      "       GPA: 1.0\n",
      "Elvis has not made the Honor Roll.\n",
      "\n",
      " Last name: Beardsley\n",
      "First name: Bob\n",
      "       GPA: 3.3\n",
      "Bob has made the Honor Roll.\n",
      "\n",
      " Last name: Economopoulos\n",
      "First name: Peter\n",
      "       GPA: 3.999\n",
      "Peter has made the Honor Roll and the Dean's List!\n",
      "\n",
      " Last name: Steamer\n",
      "First name: Lily\n",
      "       GPA: 3.25\n",
      "Lily has made the Honor Roll.\n",
      "\n",
      " Last name: Scott\n",
      "First name: Samanthony\n",
      "       GPA: 3.5\n",
      "Samanthony has made the Honor Roll and the Dean's List!\n",
      "\n",
      " Last name: ZZZ\n"
     ]
    }
   ],
   "source": [
    "qualify_students()"
   ]
  }
 ],
 "metadata": {
  "kernelspec": {
   "display_name": "Python 3 (ipykernel)",
   "language": "python",
   "name": "python3"
  },
  "language_info": {
   "codemirror_mode": {
    "name": "ipython",
    "version": 3
   },
   "file_extension": ".py",
   "mimetype": "text/x-python",
   "name": "python",
   "nbconvert_exporter": "python",
   "pygments_lexer": "ipython3",
   "version": "3.9.12"
  }
 },
 "nbformat": 4,
 "nbformat_minor": 5
}
